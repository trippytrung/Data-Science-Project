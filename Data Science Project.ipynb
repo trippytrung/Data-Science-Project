{
  "nbformat": 4,
  "nbformat_minor": 0,
  "metadata": {
    "colab": {
      "provenance": []
    },
    "kernelspec": {
      "name": "python3",
      "display_name": "Python 3"
    },
    "language_info": {
      "name": "python"
    }
  },
  "cells": [
    {
      "cell_type": "code",
      "execution_count": null,
      "metadata": {
        "colab": {
          "base_uri": "https://localhost:8080/"
        },
        "id": "kTnIx3P_Nh-g",
        "outputId": "a6e6517b-8be3-45d5-f099-3684f564918f"
      },
      "outputs": [
        {
          "output_type": "stream",
          "name": "stdout",
          "text": [
            "\u001b[?25l     \u001b[90m━━━━━━━━━━━━━━━━━━━━━━━━━━━━━━━━━━━━━━━━\u001b[0m \u001b[32m0.0/104.1 kB\u001b[0m \u001b[31m?\u001b[0m eta \u001b[36m-:--:--\u001b[0m\r\u001b[2K     \u001b[91m━━━━━━━━━━━━━━━━━━━━━━━━━━━━━━━━━━━━━━━\u001b[0m\u001b[90m╺\u001b[0m \u001b[32m102.4/104.1 kB\u001b[0m \u001b[31m2.8 MB/s\u001b[0m eta \u001b[36m0:00:01\u001b[0m\r\u001b[2K     \u001b[90m━━━━━━━━━━━━━━━━━━━━━━━━━━━━━━━━━━━━━━━━\u001b[0m \u001b[32m104.1/104.1 kB\u001b[0m \u001b[31m2.1 MB/s\u001b[0m eta \u001b[36m0:00:00\u001b[0m\n",
            "\u001b[?25h"
          ]
        }
      ],
      "source": [
        "!pip install -q pyswarms"
      ]
    },
    {
      "cell_type": "code",
      "source": [
        "import pyswarms as ps"
      ],
      "metadata": {
        "id": "36YplC6DNpOR"
      },
      "execution_count": null,
      "outputs": []
    },
    {
      "cell_type": "code",
      "source": [
        "!pip install -q geneticalgorithm"
      ],
      "metadata": {
        "colab": {
          "base_uri": "https://localhost:8080/"
        },
        "id": "4-YoenfgNreH",
        "outputId": "939514f0-7a90-4b5f-dc1a-c9553064ab44"
      },
      "execution_count": null,
      "outputs": [
        {
          "output_type": "stream",
          "name": "stdout",
          "text": [
            "\u001b[?25l     \u001b[90m━━━━━━━━━━━━━━━━━━━━━━━━━━━━━━━━━━━━━━━━\u001b[0m \u001b[32m0.0/44.3 kB\u001b[0m \u001b[31m?\u001b[0m eta \u001b[36m-:--:--\u001b[0m\r\u001b[2K     \u001b[90m━━━━━━━━━━━━━━━━━━━━━━━━━━━━━━━━━━━━━━━━\u001b[0m \u001b[32m44.3/44.3 kB\u001b[0m \u001b[31m1.6 MB/s\u001b[0m eta \u001b[36m0:00:00\u001b[0m\n",
            "\u001b[?25h  Preparing metadata (setup.py) ... \u001b[?25l\u001b[?25hdone\n",
            "  Building wheel for func-timeout (setup.py) ... \u001b[?25l\u001b[?25hdone\n"
          ]
        }
      ]
    },
    {
      "cell_type": "code",
      "source": [
        "from geneticalgorithm import geneticalgorithm as ga"
      ],
      "metadata": {
        "id": "OYIhgPWTNt4C"
      },
      "execution_count": null,
      "outputs": []
    },
    {
      "cell_type": "code",
      "source": [
        "import numpy as np\n",
        "import pandas as pd\n",
        "\n",
        "from numpy import mean\n",
        "from numpy import std\n",
        "\n",
        "from IPython.core.pylabtools import figsize\n",
        "\n",
        "from sklearn.preprocessing import StandardScaler, PolynomialFeatures\n",
        "from sklearn.model_selection import train_test_split, KFold\n",
        "from sklearn.svm import SVR\n",
        "from sklearn.metrics import mean_squared_error as mse\n",
        "from sklearn.linear_model import LogisticRegression\n",
        "from sklearn.metrics import accuracy_score, confusion_matrix as CM\n",
        "from sklearn.preprocessing import StandardScaler, PolynomialFeatures\n",
        "from sklearn.model_selection import train_test_split, KFold\n",
        "from sklearn.svm import SVR\n",
        "from sklearn import svm\n",
        "from sklearn.neighbors import KNeighborsClassifier\n",
        "from sklearn import tree\n",
        "from sklearn.ensemble import RandomForestClassifier\n",
        "from sklearn.model_selection import cross_val_score\n",
        "from sklearn.ensemble import RandomForestClassifier\n",
        "from sklearn import neighbors"
      ],
      "metadata": {
        "colab": {
          "base_uri": "https://localhost:8080/"
        },
        "id": "M6Yz3eB9Nvm5",
        "outputId": "22630e98-f05b-4384-c18c-eb7a305710b0"
      },
      "execution_count": null,
      "outputs": [
        {
          "output_type": "stream",
          "name": "stderr",
          "text": [
            "2023-11-03 00:35:53,279 - numexpr.utils - INFO - NumExpr defaulting to 2 threads.\n"
          ]
        }
      ]
    },
    {
      "cell_type": "code",
      "source": [
        "def GS_Anneal(model,h_names,h1,h2, xtrain, ytrain,xtest, ytest): # h_names means the names of the hyperparameters\n",
        "  # Here we have an implementation of Simmulated Annealing in Two Dimensions\n",
        "  MIN_IND1 = 0\n",
        "  MAX_IND1 = len(h1)\n",
        "  MIN_IND2 = 0\n",
        "  MAX_IND2 = len(h2)\n",
        "  STEP_SIZE = 7    # Std of gaussian steps\n",
        "  COOLING = 0.98    # T_{n+1} = T_{n}*COOLING, i.e. geometric cooling\n",
        "  def cost_function(model):\n",
        "    #pipe = Pipeline([['Scale',scale],['Model',model]])\n",
        "    #k_fold = cross_val_score(estimator=model,X=x,y=y,cv=10,scoring='neg_mean_squared_error')\n",
        "    model.fit(xtrain,ytrain)\n",
        "    return 1 - model.score(xtest,ytest)\n",
        "\n",
        "\n",
        "  def random_start():\n",
        "      i = np.random.randint(MIN_IND1,MAX_IND1-1)\n",
        "      j = np.random.randint(MIN_IND2,MAX_IND2-1)\n",
        "      pos = [i,j]\n",
        "      return pos\n",
        "\n",
        "\n",
        "  def random_neighbour(pos,T):\n",
        "      i = pos[0]\n",
        "      j = pos[1]\n",
        "      raw_i = np.random.normal()*STEP_SIZE*T\n",
        "      delta_i = np.floor(raw_i).astype(int)\n",
        "      raw_j = np.random.normal()*STEP_SIZE*T\n",
        "      delta_j = np.floor(raw_j).astype(int)\n",
        "      if (delta_i == 0) & (delta_j == 0):\n",
        "        delta_i = np.sign(raw_i).astype(int)\n",
        "        delta_j = np.sign(raw_j).astype(int)\n",
        "      new_i = min(MAX_IND1-1, max(MIN_IND1, i+delta_i))\n",
        "      new_j = min(MAX_IND2-1, max(MIN_IND2, j+delta_j))\n",
        "      new_pos = [new_i,new_j]\n",
        "      return new_pos\n",
        "\n",
        "\n",
        "  def acceptance_probability(cost, new_cost, temperature):\n",
        "      if new_cost < cost:\n",
        "          return 1\n",
        "      else:\n",
        "          p = np.exp(-(new_cost - cost) / temperature)\n",
        "          return p\n",
        "\n",
        "\n",
        "  def locate_min(a):\n",
        "      smallest = min(a)\n",
        "      return smallest, [index for index, element in enumerate(a) if smallest == element]\n",
        "\n",
        "  def annealing(pos0 = random_start()):\n",
        "      # Start with a random configuration\n",
        "      # alpha = random_start()\n",
        "      i = pos0[0]\n",
        "      j = pos0[1]\n",
        "      # All layers will have the same number of nodes (keep the example from getting too complicated)\n",
        "      model.set_params(**{list(h_names)[0]:h1[i-1],list(h_names)[1]:h2[j-1]})\n",
        "\n",
        "      # Compute the cost function (in this case, 1-accuracy)\n",
        "      cost = cost_function(model)\n",
        "\n",
        "      # Keep lists of results, start with the current\n",
        "      states1, states2, costs = [h1[i-1]], [h2[j-1]], [cost]\n",
        "      T = 1\n",
        "      pos = pos0\n",
        "      while T > 1e-10:\n",
        "          new_pos = random_neighbour(pos,T)\n",
        "          i = new_pos[0]\n",
        "          j = new_pos[1]\n",
        "          model.set_params(**{list(h_names)[0]:h1[i-1],list(h_names)[1]:h2[j-1]})\n",
        "          new_cost = cost_function(model)\n",
        "          if acceptance_probability(cost, new_cost, T) > np.random.random():\n",
        "              cost = new_cost\n",
        "              pos = new_pos\n",
        "              states1.append(h1[pos[0]])\n",
        "              states2.append(h2[pos[1]])\n",
        "              costs.append(cost)\n",
        "          T = T*COOLING\n",
        "      return model,np.column_stack([states1,states2]),costs\n",
        "  m,states,costs = annealing()\n",
        "  return states, costs"
      ],
      "metadata": {
        "id": "RPoutU6AOPvp"
      },
      "execution_count": null,
      "outputs": []
    },
    {
      "cell_type": "code",
      "source": [
        "from google.colab import drive\n",
        "drive.mount('/content/drive')\n",
        "data = pd.read_csv('drive/MyDrive/mobile.csv')"
      ],
      "metadata": {
        "colab": {
          "base_uri": "https://localhost:8080/"
        },
        "id": "IJuWLf1iOVgq",
        "outputId": "c721f46d-9c10-48e6-d395-f76a34e2e400"
      },
      "execution_count": null,
      "outputs": [
        {
          "output_type": "stream",
          "name": "stdout",
          "text": [
            "Mounted at /content/drive\n"
          ]
        }
      ]
    },
    {
      "cell_type": "code",
      "source": [
        "X = data.loc[:,'battery_power':'wifi'].values\n",
        "y = data['price_range'].values\n",
        "X_train, X_test, y_train, y_test = train_test_split(X, y, test_size=0.25, random_state=123)"
      ],
      "metadata": {
        "id": "ZWu5BlxsOaJC"
      },
      "execution_count": null,
      "outputs": []
    },
    {
      "cell_type": "code",
      "source": [
        "X.shape"
      ],
      "metadata": {
        "colab": {
          "base_uri": "https://localhost:8080/"
        },
        "id": "wkXkphUbOheC",
        "outputId": "9d1da722-43ce-418b-e123-ae188f5d3be3"
      },
      "execution_count": null,
      "outputs": [
        {
          "output_type": "execute_result",
          "data": {
            "text/plain": [
              "(2000, 20)"
            ]
          },
          "metadata": {},
          "execution_count": 9
        }
      ]
    },
    {
      "cell_type": "code",
      "source": [
        "scale = StandardScaler()\n",
        "if len(X_train.shape)==1:\n",
        "  X_train = X_train.reshape(-1,1)\n",
        "  X_test = X_test.reshape(-1,1)\n",
        "else:\n",
        "  X_train = scale.fit_transform(X_train)\n",
        "  X_test = scale.transform(X_test)"
      ],
      "metadata": {
        "id": "mCU8e2o4Ojq4"
      },
      "execution_count": null,
      "outputs": []
    },
    {
      "cell_type": "markdown",
      "source": [
        "PART 1:"
      ],
      "metadata": {
        "id": "uNm6qh-8O5zG"
      }
    },
    {
      "cell_type": "markdown",
      "source": [
        "Log Reg:"
      ],
      "metadata": {
        "id": "sZ5iqGdCO74K"
      }
    },
    {
      "cell_type": "code",
      "source": [
        "model = LogisticRegression(solver='lbfgs', max_iter=10000)\n",
        "model.fit(X_train,y_train)\n",
        "predicted_classes = model.predict(X_test)\n",
        "accuracy = accuracy_score(y_test,predicted_classes)\n",
        "logistic=CM(y_test, predicted_classes)\n",
        "print(logistic)\n",
        "print(accuracy)"
      ],
      "metadata": {
        "colab": {
          "base_uri": "https://localhost:8080/"
        },
        "id": "OJiPOW5KOmt-",
        "outputId": "ec16138b-a779-4a32-dbe8-16177c81269e"
      },
      "execution_count": null,
      "outputs": [
        {
          "output_type": "stream",
          "name": "stdout",
          "text": [
            "[[117   2   0   0]\n",
            " [  8 116   4   0]\n",
            " [  0   4 129   4]\n",
            " [  0   0   3 113]]\n",
            "0.95\n"
          ]
        }
      ]
    },
    {
      "cell_type": "markdown",
      "source": [
        "Poly Kernal"
      ],
      "metadata": {
        "id": "llj3v-5DPn45"
      }
    },
    {
      "cell_type": "code",
      "source": [
        "best_poly_acc=0\n",
        "best_poly_degree=0\n",
        "best_poly_c=0\n",
        "\n",
        "for degree in range(1,4):\n",
        "  for c in range(1,151):\n",
        "    model = svm.SVC(kernel='poly',C=c/2,degree=degree)\n",
        "    model.fit(X_train,y_train)\n",
        "    predicted_classes=model.predict(X_test)\n",
        "    accuracy=accuracy_score(y_test, predicted_classes)\n",
        "    if accuracy> best_poly_acc:\n",
        "      best_poly_acc=accuracy\n",
        "      best_poly_degree=degree\n",
        "      best_poly_c=c\n",
        "\n",
        "model = svm.SVC(kernel='poly',C=best_poly_c,degree= best_poly_degree)\n",
        "model.fit(X_train,y_train)\n",
        "predicted_classes= model.predict(X_test)\n",
        "accuracy= accuracy_score(y_test, predicted_classes)\n",
        "logistic=CM(y_test, predicted_classes)\n",
        "print(logistic)\n",
        "print(accuracy)"
      ],
      "metadata": {
        "colab": {
          "base_uri": "https://localhost:8080/"
        },
        "id": "F_t3sZY9P2Vm",
        "outputId": "93465355-cb8d-4986-919e-0aa2411ff12e"
      },
      "execution_count": null,
      "outputs": [
        {
          "output_type": "stream",
          "name": "stdout",
          "text": [
            "[[118   1   0   0]\n",
            " [  2 121   5   0]\n",
            " [  0   3 133   1]\n",
            " [  0   0   5 111]]\n",
            "0.966\n"
          ]
        }
      ]
    },
    {
      "cell_type": "markdown",
      "source": [
        "RBF"
      ],
      "metadata": {
        "id": "ca3WN4OGQFet"
      }
    },
    {
      "cell_type": "code",
      "source": [
        "h1= np.arange(0.0005,0.0101,0.0001)\n",
        "h2=np.arange(5,75.05,0.5)\n",
        "h_names = ['gamma','C']\n",
        "model = svm.SVC(kernel='rbf',probability=True)"
      ],
      "metadata": {
        "id": "Leoh6_0FQIwx"
      },
      "execution_count": null,
      "outputs": []
    },
    {
      "cell_type": "code",
      "source": [
        "states, costs= GS_Anneal(model,h_names, h1, h2, X_train, y_train, X_test, y_test)"
      ],
      "metadata": {
        "id": "6SgeRM5kQPIn"
      },
      "execution_count": null,
      "outputs": []
    },
    {
      "cell_type": "code",
      "source": [
        "costs=costs\n",
        "states=states.tolist()\n",
        "\n",
        "best_rbf_c=0\n",
        "best_rbf_degree=0\n",
        "best_rbf_acc=0\n",
        "for i in range (len(costs)):\n",
        "  if costs[i]>best_rbf_acc:\n",
        "    best_rbf_acc= costs[i]\n",
        "    best_rbf_c= states[i][1]\n",
        "    best_rbf_degree=states[i][0]\n",
        "\n",
        "model = svm.SVC(kernel='rbf', C=best_rbf_c,gamma=best_rbf_degree,probability=True)\n",
        "fit= model.fit(X_train,y_train)\n",
        "predicted_classes= model.predict(X_test)\n",
        "accuracy= accuracy_score(y_test, predicted_classes)\n",
        "logistic=CM(y_test, predicted_classes)\n",
        "print(logistic)\n",
        "print(accuracy)"
      ],
      "metadata": {
        "colab": {
          "base_uri": "https://localhost:8080/"
        },
        "id": "h7QujSIQQPq_",
        "outputId": "4256ab30-5ad9-4d5d-c6e0-7fad29096d04"
      },
      "execution_count": null,
      "outputs": [
        {
          "output_type": "stream",
          "name": "stdout",
          "text": [
            "[[114   5   0   0]\n",
            " [ 10 113   5   0]\n",
            " [  0   5 127   5]\n",
            " [  0   0   5 111]]\n",
            "0.93\n"
          ]
        }
      ]
    },
    {
      "cell_type": "markdown",
      "source": [
        "K nearest neighbor"
      ],
      "metadata": {
        "id": "LZbwH01tQk0u"
      }
    },
    {
      "cell_type": "code",
      "source": [
        "best_knn_acc=0\n",
        "best_knn_degree=0\n",
        "best_knn_c=''\n",
        "\n",
        "for weights in ['uniform', 'distance']:\n",
        "  for degree in range(3,126):\n",
        "    model = neighbors.KNeighborsClassifier(degree, weights=weights)\n",
        "    model.fit(X_train,y_train)\n",
        "    predicted_classes= model.predict(X_test)\n",
        "    accuracy= accuracy_score(y_test, predicted_classes)\n",
        "    if accuracy> best_knn_acc:\n",
        "      best_knn_degree= degree\n",
        "      best_knn_acc=accuracy\n",
        "      best_knn_c=weights\n",
        "\n",
        "model = neighbors.KNeighborsClassifier(best_knn_degree, weights=best_knn_c)\n",
        "model.fit(X_train,y_train)\n",
        "predicted_classes= model.predict(X_test)\n",
        "accuracy= accuracy_score(y_test, predicted_classes)\n",
        "logistic=CM(y_test, predicted_classes)\n",
        "print(logistic)\n",
        "print(accuracy)"
      ],
      "metadata": {
        "colab": {
          "base_uri": "https://localhost:8080/"
        },
        "id": "MoWQViuQQlvP",
        "outputId": "d27f0ae4-a74d-4c43-8c7a-5ee70643f12f"
      },
      "execution_count": null,
      "outputs": [
        {
          "output_type": "stream",
          "name": "stdout",
          "text": [
            "[[96 23  0  0]\n",
            " [33 75 20  0]\n",
            " [ 0 25 93 19]\n",
            " [ 0  1 22 93]]\n",
            "0.714\n"
          ]
        }
      ]
    },
    {
      "cell_type": "markdown",
      "source": [
        "PART 2:"
      ],
      "metadata": {
        "id": "R8yhSDKrhE0j"
      }
    },
    {
      "cell_type": "markdown",
      "source": [
        "Log Reg:"
      ],
      "metadata": {
        "id": "-U9xEENbhIKE"
      }
    },
    {
      "cell_type": "code",
      "source": [
        "cv = KFold(n_splits=5, random_state=123, shuffle=True)\n",
        "model=LogisticRegression(solver=\"lbfgs\", max_iter=10000)\n",
        "model.fit(X_train,y_train)\n",
        "scores = cross_val_score(model, X_train, y_train, scoring='accuracy', cv=cv, n_jobs=-1)\n",
        "print('Accuracy:'+str(mean(scores)))"
      ],
      "metadata": {
        "colab": {
          "base_uri": "https://localhost:8080/"
        },
        "id": "D_g8xS_qsKY6",
        "outputId": "23b7947f-4efc-4027-b740-96bd7abfc839"
      },
      "execution_count": null,
      "outputs": [
        {
          "output_type": "stream",
          "name": "stdout",
          "text": [
            "Accuracy:0.9506666666666665\n"
          ]
        }
      ]
    },
    {
      "cell_type": "markdown",
      "source": [
        "Poly Kernal"
      ],
      "metadata": {
        "id": "f9x56DBLjI1K"
      }
    },
    {
      "cell_type": "code",
      "source": [
        "cv = KFold(n_splits=5, random_state=123, shuffle=True)\n",
        "model=svm.SVC(kernel='poly',C=best_poly_c,degree= best_poly_degree)\n",
        "model.fit(X_train,y_train)\n",
        "scores = cross_val_score(model, X_train, y_train, scoring='accuracy', cv=cv, n_jobs=-1)\n",
        "print(\"Hyperparameters: C = \"+ str(best_poly_c)+\", degree = \"+str(best_poly_degree))\n",
        "print('Accuracy: '+str(mean(scores)))"
      ],
      "metadata": {
        "id": "FP5vvKHTkIqs",
        "colab": {
          "base_uri": "https://localhost:8080/"
        },
        "outputId": "20706f0a-30b0-4124-878e-8935a583486a"
      },
      "execution_count": null,
      "outputs": [
        {
          "output_type": "stream",
          "name": "stdout",
          "text": [
            "Hyperparameters: C = 143, degree = 1\n",
            "Accuracy: 0.9573333333333334\n"
          ]
        }
      ]
    },
    {
      "cell_type": "markdown",
      "source": [
        "RBF"
      ],
      "metadata": {
        "id": "8jb4Sa90seMN"
      }
    },
    {
      "cell_type": "code",
      "source": [
        "cv = KFold(n_splits=5, random_state=123, shuffle=True)\n",
        "model=svm.SVC(kernel='rbf', C=best_rbf_c,gamma=best_rbf_degree,probability=True)\n",
        "model.fit(X_train,y_train)\n",
        "scores = cross_val_score(model, X_train, y_train, scoring='accuracy', cv=cv, n_jobs=-1)\n",
        "print(\"Hyperparameters: C = \"+ str(best_rbf_c)+\", gamma = \"+str(best_rbf_degree))\n",
        "print('Accuracy: mean is '+str(mean(scores)))"
      ],
      "metadata": {
        "colab": {
          "base_uri": "https://localhost:8080/"
        },
        "id": "ivSqs4e-sf5B",
        "outputId": "f738ff38-d362-45bb-dcb1-f33b0977f9ce"
      },
      "execution_count": null,
      "outputs": [
        {
          "output_type": "stream",
          "name": "stdout",
          "text": [
            "Hyperparameters: C = 61.0, gamma = 0.0005\n",
            "Accuracy: mean is 0.9253333333333333\n"
          ]
        }
      ]
    },
    {
      "cell_type": "markdown",
      "source": [
        "K nearest neighbor"
      ],
      "metadata": {
        "id": "MZI2XfSwsrk5"
      }
    },
    {
      "cell_type": "code",
      "source": [
        "cv = KFold(n_splits=5, random_state=123, shuffle=True)\n",
        "model = neighbors.KNeighborsClassifier(best_knn_degree, weights=best_knn_c)\n",
        "fit= model.fit(X_train,y_train)\n",
        "scores = cross_val_score(model, X_train, y_train, scoring='accuracy', cv=cv, n_jobs=-1)\n",
        "print(\"Hyperparameters: weights = \"+ str(best_knn_c)+\", number of neighbors = \"+str(best_knn_degree))\n",
        "print('Accuracy: mean is '+str(mean(scores)))"
      ],
      "metadata": {
        "colab": {
          "base_uri": "https://localhost:8080/"
        },
        "id": "6U5lbumKsvqp",
        "outputId": "bfab6411-d8aa-4151-b07c-10e878cdd3cb"
      },
      "execution_count": null,
      "outputs": [
        {
          "output_type": "stream",
          "name": "stdout",
          "text": [
            "Hyperparameters: weights = distance, number of neighbors = 119\n",
            "Accuracy: mean is 0.6366666666666666\n"
          ]
        }
      ]
    }
  ]
}